{
 "cells": [
  {
   "cell_type": "code",
   "execution_count": 7,
   "metadata": {},
   "outputs": [],
   "source": [
    "lya_data_path = \"../data/lyman-alpha.txt\" \n",
    "import matplotlib\n",
    "from matplotlib import pyplot as plt \n",
    "import numpy as np"
   ]
  },
  {
   "cell_type": "code",
   "execution_count": 8,
   "metadata": {},
   "outputs": [],
   "source": [
    "class Data(object):\n",
    "    def __init__(self, x, y, y_unc):\n",
    "        self.x = x\n",
    "        self.y = y\n",
    "        self.y_unc = y_unc"
   ]
  },
  {
   "cell_type": "code",
   "execution_count": 9,
   "metadata": {},
   "outputs": [],
   "source": [
    "def load_lya_data(filename=lya_data_path):\n",
    "    \"\"\"Load lyman-alpha data\n",
    "\n",
    "    Parameters\n",
    "    ----------\n",
    "    filename : str\n",
    "        Path to ly-a data\n",
    "\n",
    "    Returns\n",
    "    -------\n",
    "    data : Data object\n",
    "        K, matter power spectrum, and p(k) uncertainty arrays,\n",
    "        encapsulated in Data object\n",
    "    \"\"\"\n",
    "    x, y, y_unc = np.loadtxt(filename, unpack=True)\n",
    "\n",
    "    data = Data(x, y, y_unc)\n",
    "\n",
    "\n",
    "    return data\n"
   ]
  },
  {
   "cell_type": "code",
   "execution_count": 30,
   "metadata": {},
   "outputs": [],
   "source": [
    "def plot_pk(params=None, filename=lya_data_path, color='k',marker='o',ms=5,ls='', **kwargs):\n",
    "    \"\"\"Plot p(k) power spectrum data and theory, with panel for residuals\n",
    "    \n",
    "    Parameters\n",
    "    ----------\n",
    "    params : dict or None\n",
    "        Cosmological parameter dictionary; if None, then plot only data\n",
    "\n",
    "\n",
    "    Returns\n",
    "    -------\n",
    "    fig : matplotlib Figure instance\n",
    "    \"\"\"\n",
    "    panel = (1,2)[bool(params)]\n",
    "    \n",
    "    data = load_lya_data(filename)\n",
    "\n",
    "\n",
    "    if params is None:\n",
    "        plt.errorbar(data.x, data.y, data.y_unc, color='k',marker='o',ms=5,ls='', **kwargs)\n",
    "        plt.xlabel('k [$Mpc^{-1}$]')\n",
    "        plt.ylabel('P(k)')\n",
    "        \n",
    "    else:\n",
    "        #pk = get_theory_pk(data.x,params)\n",
    "        pk = np.ones(len(data.x))\n",
    "        res = data.y - pk\n",
    "        fig, ax = plt.subplots(2, 1, gridspec_kw={'height_ratios': [3, 1]})\n",
    "        ax[0].errorbar(data.x, data.y, data.y_unc, color='k',marker='o',ms=5,ls='' ,**kwargs)\n",
    "        ax[0].plot(data.x, pk, color='r',**kwargs)\n",
    "        ax[1].errorbar(data.x, res, data.y_unc, color='k',marker='o',ms=5,ls='', **kwargs)\n",
    "        ax[1].set_xlabel('k $Mpc^{-1}$')\n",
    "        ax[0].set_ylabel('P(k)')\n",
    "        ax[1].set_ylabel('Residual')\n",
    "    "
   ]
  },
  {
   "cell_type": "code",
   "execution_count": 31,
   "metadata": {},
   "outputs": [
    {
     "data": {
      "image/png": "[encoded data removed]",
      "text/plain": [
       "<Figure size 432x288 with 2 Axes>"
      ]
     },
     "metadata": {
      "needs_background": "light"
     },
     "output_type": "display_data"
    }
   ],
   "source": [
    "plot_pk(params = 1)"
   ]
  },
  {
   "cell_type": "code",
   "execution_count": null,
   "metadata": {},
   "outputs": [],
   "source": []
  }
 ],
 "metadata": {
  "kernelspec": {
   "display_name": "Python 3",
   "language": "python",
   "name": "python3"
  },
  "language_info": {
   "codemirror_mode": {
    "name": "ipython",
    "version": 3
   },
   "file_extension": ".py",
   "mimetype": "text/x-python",
   "name": "python",
   "nbconvert_exporter": "python",
   "pygments_lexer": "ipython3",
   "version": "3.7.3"
  }
 },
 "nbformat": 4,
 "nbformat_minor": 2
}
